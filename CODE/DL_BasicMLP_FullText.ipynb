{
  "nbformat": 4,
  "nbformat_minor": 0,
  "metadata": {
    "colab": {
      "name": "DL-BasicMLP-FullText.ipynb",
      "provenance": []
    },
    "kernelspec": {
      "name": "python3",
      "display_name": "Python 3"
    }
  },
  "cells": [
    {
      "cell_type": "code",
      "metadata": {
        "id": "SuEJJrMpOjM3"
      },
      "source": [
        "# Basic packages\r\n",
        "import pandas as pd \r\n",
        "import numpy as np\r\n",
        "import re\r\n",
        "import collections\r\n",
        "import matplotlib.pyplot as plt\r\n",
        "\r\n",
        "# Packages for data preparation\r\n",
        "from sklearn.model_selection import train_test_split\r\n",
        "from nltk.corpus import stopwords\r\n",
        "from keras.preprocessing.text import Tokenizer\r\n",
        "from keras.utils.np_utils import to_categorical\r\n",
        "from sklearn.preprocessing import LabelEncoder\r\n",
        "\r\n",
        "# Packages for modeling\r\n",
        "from keras import models\r\n",
        "from keras import layers\r\n",
        "from keras import regularizers"
      ],
      "execution_count": 1,
      "outputs": []
    },
    {
      "cell_type": "code",
      "metadata": {
        "id": "o2kye8CuRMdy"
      },
      "source": [
        "NB_WORDS = 10000  # Parameter indicating the number of words we'll put in the dictionary\r\n",
        "VAL_SIZE = 1000  # Size of the validation set\r\n",
        "NB_START_EPOCHS = 20  # Number of epochs we usually start to train with\r\n",
        "BATCH_SIZE = 512  # Size of the batches used in the mini-batch gradient descent"
      ],
      "execution_count": 2,
      "outputs": []
    },
    {
      "cell_type": "code",
      "metadata": {
        "id": "_Dqb6f7fSNbR"
      },
      "source": [
        "data = pd.read_csv('/content/drive/MyDrive/DeepLearningProject/train.csv')"
      ],
      "execution_count": 3,
      "outputs": []
    },
    {
      "cell_type": "code",
      "metadata": {
        "id": "E0ldfNOmSQM3"
      },
      "source": [
        "data.dropna(subset = [\"text\"], inplace=True)"
      ],
      "execution_count": 4,
      "outputs": []
    },
    {
      "cell_type": "code",
      "metadata": {
        "colab": {
          "base_uri": "https://localhost:8080/",
          "height": 195
        },
        "id": "5Jq60RylSVnZ",
        "outputId": "b0f0823c-3cd7-409c-91a2-eae81aba410b"
      },
      "source": [
        "df = data\r\n",
        "df = df.reindex(np.random.permutation(df.index))  \r\n",
        "df = df[['text', 'sentiment']]\r\n",
        "df.head()"
      ],
      "execution_count": 5,
      "outputs": [
        {
          "output_type": "execute_result",
          "data": {
            "text/html": [
              "<div>\n",
              "<style scoped>\n",
              "    .dataframe tbody tr th:only-of-type {\n",
              "        vertical-align: middle;\n",
              "    }\n",
              "\n",
              "    .dataframe tbody tr th {\n",
              "        vertical-align: top;\n",
              "    }\n",
              "\n",
              "    .dataframe thead th {\n",
              "        text-align: right;\n",
              "    }\n",
              "</style>\n",
              "<table border=\"1\" class=\"dataframe\">\n",
              "  <thead>\n",
              "    <tr style=\"text-align: right;\">\n",
              "      <th></th>\n",
              "      <th>text</th>\n",
              "      <th>sentiment</th>\n",
              "    </tr>\n",
              "  </thead>\n",
              "  <tbody>\n",
              "    <tr>\n",
              "      <th>3126</th>\n",
              "      <td>lol to see my king</td>\n",
              "      <td>neutral</td>\n",
              "    </tr>\n",
              "    <tr>\n",
              "      <th>10806</th>\n",
              "      <td>rainy season-- here it comes!</td>\n",
              "      <td>neutral</td>\n",
              "    </tr>\n",
              "    <tr>\n",
              "      <th>3977</th>\n",
              "      <td>aww sorry boo. I haven`t bought a printer in ...</td>\n",
              "      <td>neutral</td>\n",
              "    </tr>\n",
              "    <tr>\n",
              "      <th>16151</th>\n",
              "      <td>...celebrated by spilling half my soup. Hello,...</td>\n",
              "      <td>neutral</td>\n",
              "    </tr>\n",
              "    <tr>\n",
              "      <th>1982</th>\n",
              "      <td>_2008 don`t be sorry  you can race for charity...</td>\n",
              "      <td>positive</td>\n",
              "    </tr>\n",
              "  </tbody>\n",
              "</table>\n",
              "</div>"
            ],
            "text/plain": [
              "                                                    text sentiment\n",
              "3126                                  lol to see my king   neutral\n",
              "10806                      rainy season-- here it comes!   neutral\n",
              "3977    aww sorry boo. I haven`t bought a printer in ...   neutral\n",
              "16151  ...celebrated by spilling half my soup. Hello,...   neutral\n",
              "1982   _2008 don`t be sorry  you can race for charity...  positive"
            ]
          },
          "metadata": {
            "tags": []
          },
          "execution_count": 5
        }
      ]
    },
    {
      "cell_type": "code",
      "metadata": {
        "colab": {
          "base_uri": "https://localhost:8080/"
        },
        "id": "d-jQMylfSX3A",
        "outputId": "360a9fb5-0bac-4fc7-c5ce-7f3b336969d9"
      },
      "source": [
        "df.isnull().sum()"
      ],
      "execution_count": 6,
      "outputs": [
        {
          "output_type": "execute_result",
          "data": {
            "text/plain": [
              "text         0\n",
              "sentiment    0\n",
              "dtype: int64"
            ]
          },
          "metadata": {
            "tags": []
          },
          "execution_count": 6
        }
      ]
    },
    {
      "cell_type": "code",
      "metadata": {
        "colab": {
          "base_uri": "https://localhost:8080/"
        },
        "id": "UMUOGdo4SbsC",
        "outputId": "d785065b-4451-42cb-9a9b-fa86d6e5bc5c"
      },
      "source": [
        "import nltk\r\n",
        "nltk.download('stopwords')"
      ],
      "execution_count": 7,
      "outputs": [
        {
          "output_type": "stream",
          "text": [
            "[nltk_data] Downloading package stopwords to /root/nltk_data...\n",
            "[nltk_data]   Unzipping corpora/stopwords.zip.\n"
          ],
          "name": "stdout"
        },
        {
          "output_type": "execute_result",
          "data": {
            "text/plain": [
              "True"
            ]
          },
          "metadata": {
            "tags": []
          },
          "execution_count": 7
        }
      ]
    },
    {
      "cell_type": "code",
      "metadata": {
        "colab": {
          "base_uri": "https://localhost:8080/",
          "height": 195
        },
        "id": "4Tr-TlIwSfG9",
        "outputId": "460d9f77-fc7d-4d92-8ac7-890e8cf8dbdd"
      },
      "source": [
        "def remove_stopwords(input_text):\r\n",
        "        stopwords_list = stopwords.words('english')\r\n",
        "        # Some words which might indicate a certain sentiment are kept via a whitelist\r\n",
        "        whitelist = [\"n't\", \"not\", \"no\"]\r\n",
        "        words = input_text.split() \r\n",
        "        clean_words = [word for word in words if (word not in stopwords_list or word in whitelist) and len(word) > 1] \r\n",
        "        return \" \".join(clean_words) \r\n",
        "    \r\n",
        "def remove_mentions(input_text):\r\n",
        "        return re.sub(r'@\\w+', '', input_text)\r\n",
        "       \r\n",
        "df.text = df.text.apply(remove_stopwords).apply(remove_mentions)\r\n",
        "df.head()"
      ],
      "execution_count": 8,
      "outputs": [
        {
          "output_type": "execute_result",
          "data": {
            "text/html": [
              "<div>\n",
              "<style scoped>\n",
              "    .dataframe tbody tr th:only-of-type {\n",
              "        vertical-align: middle;\n",
              "    }\n",
              "\n",
              "    .dataframe tbody tr th {\n",
              "        vertical-align: top;\n",
              "    }\n",
              "\n",
              "    .dataframe thead th {\n",
              "        text-align: right;\n",
              "    }\n",
              "</style>\n",
              "<table border=\"1\" class=\"dataframe\">\n",
              "  <thead>\n",
              "    <tr style=\"text-align: right;\">\n",
              "      <th></th>\n",
              "      <th>text</th>\n",
              "      <th>sentiment</th>\n",
              "    </tr>\n",
              "  </thead>\n",
              "  <tbody>\n",
              "    <tr>\n",
              "      <th>3126</th>\n",
              "      <td>lol see king</td>\n",
              "      <td>neutral</td>\n",
              "    </tr>\n",
              "    <tr>\n",
              "      <th>10806</th>\n",
              "      <td>rainy season-- comes!</td>\n",
              "      <td>neutral</td>\n",
              "    </tr>\n",
              "    <tr>\n",
              "      <th>3977</th>\n",
              "      <td>aww sorry boo. haven`t bought printer years; c...</td>\n",
              "      <td>neutral</td>\n",
              "    </tr>\n",
              "    <tr>\n",
              "      <th>16151</th>\n",
              "      <td>...celebrated spilling half soup. Hello, 40 ca...</td>\n",
              "      <td>neutral</td>\n",
              "    </tr>\n",
              "    <tr>\n",
              "      <th>1982</th>\n",
              "      <td>_2008 don`t sorry race charity fun. one fun.</td>\n",
              "      <td>positive</td>\n",
              "    </tr>\n",
              "  </tbody>\n",
              "</table>\n",
              "</div>"
            ],
            "text/plain": [
              "                                                    text sentiment\n",
              "3126                                        lol see king   neutral\n",
              "10806                              rainy season-- comes!   neutral\n",
              "3977   aww sorry boo. haven`t bought printer years; c...   neutral\n",
              "16151  ...celebrated spilling half soup. Hello, 40 ca...   neutral\n",
              "1982        _2008 don`t sorry race charity fun. one fun.  positive"
            ]
          },
          "metadata": {
            "tags": []
          },
          "execution_count": 8
        }
      ]
    },
    {
      "cell_type": "code",
      "metadata": {
        "colab": {
          "base_uri": "https://localhost:8080/"
        },
        "id": "h4X9yqALSh9o",
        "outputId": "e6e067b2-9add-4a17-e807-6a3b82471a9c"
      },
      "source": [
        "X_train, X_test, y_train, y_test = train_test_split(df.text, df.sentiment, test_size=0.2, random_state=37)\r\n",
        "print('# Train data samples:', X_train.shape[0])\r\n",
        "print('# Test data samples:', X_test.shape[0])\r\n",
        "assert X_train.shape[0] == y_train.shape[0]\r\n",
        "assert X_test.shape[0] == y_test.shape[0]"
      ],
      "execution_count": 9,
      "outputs": [
        {
          "output_type": "stream",
          "text": [
            "# Train data samples: 21984\n",
            "# Test data samples: 5496\n"
          ],
          "name": "stdout"
        }
      ]
    },
    {
      "cell_type": "code",
      "metadata": {
        "colab": {
          "base_uri": "https://localhost:8080/"
        },
        "id": "JVSaavb1SlXN",
        "outputId": "139e9a44-41db-4bda-a063-e1d87c01b4df"
      },
      "source": [
        "tk = Tokenizer(num_words=NB_WORDS,\r\n",
        "               filters='!\"#$%&()*+,-./:;<=>?@[\\\\]^_`{|}~\\t\\n',\r\n",
        "               lower=True,\r\n",
        "               split=\" \")\r\n",
        "tk.fit_on_texts(X_train)\r\n",
        "\r\n",
        "print('Fitted tokenizer on {} documents'.format(tk.document_count))\r\n",
        "print('{} words in dictionary'.format(tk.num_words))\r\n",
        "print('Top 5 most common words are:', collections.Counter(tk.word_counts).most_common(5))"
      ],
      "execution_count": 10,
      "outputs": [
        {
          "output_type": "stream",
          "text": [
            "Fitted tokenizer on 21984 documents\n",
            "10000 words in dictionary\n",
            "Top 5 most common words are: [('s', 2897), ('i', 2846), ('t', 2536), ('it', 1894), ('m', 1849)]\n"
          ],
          "name": "stdout"
        }
      ]
    },
    {
      "cell_type": "markdown",
      "metadata": {
        "id": "nNgysK5NSwvX"
      },
      "source": [
        "After having created the dictionary we can convert the text to a list of integer indexes. This is done with the text_to_sequences method of the Tokenizer."
      ]
    },
    {
      "cell_type": "code",
      "metadata": {
        "id": "RN7jUYp6Sqm_"
      },
      "source": [
        "X_train_seq = tk.texts_to_sequences(X_train)\r\n",
        "X_test_seq = tk.texts_to_sequences(X_test)\r\n"
      ],
      "execution_count": 11,
      "outputs": []
    },
    {
      "cell_type": "code",
      "metadata": {
        "id": "XVtdi7XSS02i"
      },
      "source": [
        "def one_hot_seq(seqs, nb_features = NB_WORDS):\r\n",
        "    ohs = np.zeros((len(seqs), nb_features))\r\n",
        "    for i, s in enumerate(seqs):\r\n",
        "        ohs[i, s] = 1.\r\n",
        "    return ohs\r\n",
        "\r\n",
        "X_train_oh = one_hot_seq(X_train_seq)\r\n",
        "X_test_oh = one_hot_seq(X_test_seq)"
      ],
      "execution_count": 12,
      "outputs": []
    },
    {
      "cell_type": "code",
      "metadata": {
        "colab": {
          "base_uri": "https://localhost:8080/"
        },
        "id": "CBiE0RTrS3qD",
        "outputId": "345dac53-dd54-442c-ad3d-5798ddba2de6"
      },
      "source": [
        "print('\"{}\" is converted into {}'.format(X_train_seq[0], X_train_oh[0]))\r\n",
        "print('For this example we have {} features with a value of 1.'.format(X_train_oh[0].sum()))"
      ],
      "execution_count": 13,
      "outputs": [
        {
          "output_type": "stream",
          "text": [
            "\"[106, 199, 12]\" is converted into [0. 0. 0. ... 0. 0. 0.]\n",
            "For this example we have 3.0 features with a value of 1.\n"
          ],
          "name": "stdout"
        }
      ]
    },
    {
      "cell_type": "code",
      "metadata": {
        "id": "_QLZo-U5S6yO"
      },
      "source": [
        "le = LabelEncoder()\r\n",
        "y_train_le = le.fit_transform(y_train)\r\n",
        "y_test_le = le.transform(y_test)\r\n",
        "y_train_oh = to_categorical(y_train_le)\r\n",
        "y_test_oh = to_categorical(y_test_le)"
      ],
      "execution_count": 14,
      "outputs": []
    },
    {
      "cell_type": "code",
      "metadata": {
        "colab": {
          "base_uri": "https://localhost:8080/"
        },
        "id": "NnLy7_EfTD4Z",
        "outputId": "018add38-3eea-4303-fc30-2d173a862ccc"
      },
      "source": [
        "print('\"{}\" is converted into {}'.format(y_train_le[0], y_train_oh[0]))"
      ],
      "execution_count": 15,
      "outputs": [
        {
          "output_type": "stream",
          "text": [
            "\"1\" is converted into [0. 1. 0.]\n"
          ],
          "name": "stdout"
        }
      ]
    },
    {
      "cell_type": "code",
      "metadata": {
        "colab": {
          "base_uri": "https://localhost:8080/"
        },
        "id": "de6CjZ3-TG-5",
        "outputId": "f6cf7b1e-3f46-44f0-a94f-ae75315d5671"
      },
      "source": [
        "print(X_train_oh.shape)"
      ],
      "execution_count": 16,
      "outputs": [
        {
          "output_type": "stream",
          "text": [
            "(21984, 10000)\n"
          ],
          "name": "stdout"
        }
      ]
    },
    {
      "cell_type": "code",
      "metadata": {
        "colab": {
          "base_uri": "https://localhost:8080/"
        },
        "id": "_wukDHc9TNqv",
        "outputId": "813f93ed-9230-48a3-da01-50365b86b260"
      },
      "source": [
        "X_train_rest, X_valid, y_train_rest, y_valid = train_test_split(X_train_oh, y_train_oh, test_size=0.2, random_state=37)\r\n",
        "\r\n",
        "assert X_valid.shape[0] == y_valid.shape[0]\r\n",
        "assert X_train_rest.shape[0] == y_train_rest.shape[0]\r\n",
        "\r\n",
        "print('Shape of validation set:',X_valid.shape)\r\n",
        "print('Shape of validation set:',X_train_rest.shape)"
      ],
      "execution_count": 17,
      "outputs": [
        {
          "output_type": "stream",
          "text": [
            "Shape of validation set: (4397, 10000)\n",
            "Shape of validation set: (17587, 10000)\n"
          ],
          "name": "stdout"
        }
      ]
    },
    {
      "cell_type": "markdown",
      "metadata": {
        "id": "JVmq0CvoTnWE"
      },
      "source": [
        "Baseline model We start with a model with 2 densely connected layers of 64 hidden elements. The input_shape for the first layer is equal to the number of words we allowed in the dictionary and for which we created one-hot-encoded features.\r\n",
        "\r\n",
        "As we need to predict 3 different sentiment classes, the last layer has 3 hidden elements. The softmax activation function makes sure the three probabilities sum up to 1.\r\n",
        "\r\n",
        "In the first layer we need to estimate 640064 weights. This is determined by (nb inputs * nb hidden elements) + nb bias terms, or (10000 x 64) + 64 = 640064 In the second layer we estimate (64 x 64) + 64 = 4160 weights In the last layer we estimate (64 x 3) + 3 = 195 weights"
      ]
    },
    {
      "cell_type": "code",
      "metadata": {
        "colab": {
          "base_uri": "https://localhost:8080/"
        },
        "id": "ESIjGTUsThuU",
        "outputId": "55b7c5ed-c0e1-495e-8b1f-58432830a47c"
      },
      "source": [
        "base_model = models.Sequential()\r\n",
        "base_model.add(layers.Dense(64, activation='relu', input_shape=(NB_WORDS,)))\r\n",
        "base_model.add(layers.Dense(64, activation='relu'))\r\n",
        "base_model.add(layers.Dense(3, activation='softmax'))\r\n",
        "base_model.summary()"
      ],
      "execution_count": 18,
      "outputs": [
        {
          "output_type": "stream",
          "text": [
            "Model: \"sequential\"\n",
            "_________________________________________________________________\n",
            "Layer (type)                 Output Shape              Param #   \n",
            "=================================================================\n",
            "dense (Dense)                (None, 64)                640064    \n",
            "_________________________________________________________________\n",
            "dense_1 (Dense)              (None, 64)                4160      \n",
            "_________________________________________________________________\n",
            "dense_2 (Dense)              (None, 3)                 195       \n",
            "=================================================================\n",
            "Total params: 644,419\n",
            "Trainable params: 644,419\n",
            "Non-trainable params: 0\n",
            "_________________________________________________________________\n"
          ],
          "name": "stdout"
        }
      ]
    },
    {
      "cell_type": "code",
      "metadata": {
        "id": "Uy4Wl-fyTxu2"
      },
      "source": [
        "def deep_model(model):\r\n",
        "    model.compile(optimizer='rmsprop'\r\n",
        "                  , loss='categorical_crossentropy'\r\n",
        "                  , metrics=['accuracy'])\r\n",
        "    \r\n",
        "    history = model.fit(X_train_rest\r\n",
        "                       , y_train_rest\r\n",
        "                       , epochs=NB_START_EPOCHS\r\n",
        "                       , batch_size=BATCH_SIZE\r\n",
        "                       , validation_data=(X_valid, y_valid)\r\n",
        "                       , verbose=0)\r\n",
        "    \r\n",
        "    return history"
      ],
      "execution_count": 19,
      "outputs": []
    },
    {
      "cell_type": "code",
      "metadata": {
        "id": "lq9BPFDAT1yX"
      },
      "source": [
        "base_history = deep_model(base_model)"
      ],
      "execution_count": 20,
      "outputs": []
    },
    {
      "cell_type": "code",
      "metadata": {
        "id": "-FeTDdioT3yn"
      },
      "source": [
        "def eval_metric(history, metric_name):\r\n",
        "    metric = history.history[metric_name]\r\n",
        "    val_metric = history.history['val_' + metric_name]\r\n",
        "\r\n",
        "    e = range(1, NB_START_EPOCHS + 1)\r\n",
        "\r\n",
        "    plt.plot(e, metric, 'bo', label='Train ' + metric_name)\r\n",
        "    plt.plot(e, val_metric, 'b', label='Validation ' + metric_name)\r\n",
        "    plt.legend()\r\n",
        "    plt.show()"
      ],
      "execution_count": 21,
      "outputs": []
    },
    {
      "cell_type": "markdown",
      "metadata": {
        "id": "AgSyPb4kT9yR"
      },
      "source": [
        "We can see here that the validation loss starts to increase as from epoch 4. The training loss continues to lower, which is normal as the model is trained to fit the train data as good as possible"
      ]
    },
    {
      "cell_type": "code",
      "metadata": {
        "colab": {
          "base_uri": "https://localhost:8080/",
          "height": 265
        },
        "id": "wvqSA2vVT6ib",
        "outputId": "1bf7571d-fbfb-4d59-c389-b0347edbd6bd"
      },
      "source": [
        "eval_metric(base_history, 'loss')"
      ],
      "execution_count": 22,
      "outputs": [
        {
          "output_type": "display_data",
          "data": {
            "image/png": "[encoded data removed]",
            "text/plain": [
              "<Figure size 432x288 with 1 Axes>"
            ]
          },
          "metadata": {
            "tags": [],
            "needs_background": "light"
          }
        }
      ]
    },
    {
      "cell_type": "markdown",
      "metadata": {
        "id": "C90O43QjUDGD"
      },
      "source": [
        "Just as with the validation loss, the validation accuracy peaks at an early epoch. After that, it goes down slightly. So to conclude, we can say that the model starts overfitting as from epoch 4"
      ]
    },
    {
      "cell_type": "code",
      "metadata": {
        "colab": {
          "base_uri": "https://localhost:8080/",
          "height": 265
        },
        "id": "KSDg3Pa8UAJ-",
        "outputId": "0f9c129a-bba0-4023-ec9e-3073b3a8c8c7"
      },
      "source": [
        "eval_metric(base_history, 'accuracy')"
      ],
      "execution_count": 23,
      "outputs": [
        {
          "output_type": "display_data",
          "data": {
            "image/png": "[encoded data removed]",
            "text/plain": [
              "<Figure size 432x288 with 1 Axes>"
            ]
          },
          "metadata": {
            "tags": [],
            "needs_background": "light"
          }
        }
      ]
    },
    {
      "cell_type": "markdown",
      "metadata": {
        "id": "4Cna_UdgUNSr"
      },
      "source": [
        "## Handling overfitting\r\n",
        "Now, we can try to do something about the overfitting. There are different options to do that.\r\n",
        "\r\n",
        "#### Option 1: reduce the network's size by removing layers or reducing the number of hidden elements in the layers\r\n",
        "\r\n",
        "#### Option 2: add regularization, which comes down to adding a cost to the loss function for large weights\r\n",
        "\r\n",
        "#### Option 3: adding dropout layers, which will randomly remove certain features by setting them to zero\r\n",
        "\r\n",
        "Reducing the network's size We reduce the network's size by removing one layer and lowering the number of hidden elements in the remaining layer to 32."
      ]
    },
    {
      "cell_type": "code",
      "metadata": {
        "colab": {
          "base_uri": "https://localhost:8080/"
        },
        "id": "FbOVxcntUJjt",
        "outputId": "a5ce9cee-8b15-4d1f-86b1-c67e61ba4c6a"
      },
      "source": [
        "reduced_model = models.Sequential()\r\n",
        "reduced_model.add(layers.Dense(32, activation='relu', input_shape=(NB_WORDS,)))\r\n",
        "reduced_model.add(layers.Dense(3, activation='softmax'))\r\n",
        "reduced_model.summary()"
      ],
      "execution_count": 24,
      "outputs": [
        {
          "output_type": "stream",
          "text": [
            "Model: \"sequential_1\"\n",
            "_________________________________________________________________\n",
            "Layer (type)                 Output Shape              Param #   \n",
            "=================================================================\n",
            "dense_3 (Dense)              (None, 32)                320032    \n",
            "_________________________________________________________________\n",
            "dense_4 (Dense)              (None, 3)                 99        \n",
            "=================================================================\n",
            "Total params: 320,131\n",
            "Trainable params: 320,131\n",
            "Non-trainable params: 0\n",
            "_________________________________________________________________\n"
          ],
          "name": "stdout"
        }
      ]
    },
    {
      "cell_type": "code",
      "metadata": {
        "id": "mbUW0SsQUf0j"
      },
      "source": [
        "reduced_history = deep_model(reduced_model)"
      ],
      "execution_count": 25,
      "outputs": []
    },
    {
      "cell_type": "code",
      "metadata": {
        "id": "A3uWD2CJUjxJ"
      },
      "source": [
        "def compare_loss_with_baseline(h, model_name):\r\n",
        "    loss_base_model = base_history.history['val_loss']\r\n",
        "    loss_model = h.history['val_loss']\r\n",
        "\r\n",
        "    e = range(1, NB_START_EPOCHS + 1)\r\n",
        "\r\n",
        "    plt.plot(e, loss_base_model, 'bo', label='Validation Loss Baseline Model')\r\n",
        "    plt.plot(e, loss_model, 'b', label='Validation Loss ' + model_name)\r\n",
        "    plt.legend()\r\n",
        "    plt.show()"
      ],
      "execution_count": 26,
      "outputs": []
    },
    {
      "cell_type": "markdown",
      "metadata": {
        "id": "xEvgCAtWUtEN"
      },
      "source": [
        "We can see that it takes more epochs before the reduced model starts overfitting (around epoch 10). Moreover, the loss increases much slower after that epoch compared to the baseline model."
      ]
    },
    {
      "cell_type": "code",
      "metadata": {
        "colab": {
          "base_uri": "https://localhost:8080/",
          "height": 266
        },
        "id": "Be33_pkGUqCY",
        "outputId": "50ba9d8a-5d25-4068-b452-47509c9b065e"
      },
      "source": [
        "compare_loss_with_baseline(reduced_history, 'Reduced Model')"
      ],
      "execution_count": 27,
      "outputs": [
        {
          "output_type": "display_data",
          "data": {
            "image/png": "[encoded data removed]",
            "text/plain": [
              "<Figure size 432x288 with 1 Axes>"
            ]
          },
          "metadata": {
            "tags": [],
            "needs_background": "light"
          }
        }
      ]
    },
    {
      "cell_type": "markdown",
      "metadata": {
        "id": "YWyx-d31U2x8"
      },
      "source": [
        "Adding regularization To address overfitting, we can also add regularization to the model. Let's try with L2 regularization"
      ]
    },
    {
      "cell_type": "code",
      "metadata": {
        "colab": {
          "base_uri": "https://localhost:8080/"
        },
        "id": "wF6u9xH5UvwU",
        "outputId": "8e5cabbe-d009-492d-e42c-0bd6bf61e9b6"
      },
      "source": [
        "reg_model = models.Sequential()\r\n",
        "reg_model.add(layers.Dense(64, kernel_regularizer=regularizers.l2(0.001), activation='relu', input_shape=(NB_WORDS,)))\r\n",
        "reg_model.add(layers.Dense(64, kernel_regularizer=regularizers.l2(0.001), activation='relu'))\r\n",
        "reg_model.add(layers.Dense(3, activation='softmax'))\r\n",
        "reg_model.summary()"
      ],
      "execution_count": 28,
      "outputs": [
        {
          "output_type": "stream",
          "text": [
            "Model: \"sequential_2\"\n",
            "_________________________________________________________________\n",
            "Layer (type)                 Output Shape              Param #   \n",
            "=================================================================\n",
            "dense_5 (Dense)              (None, 64)                640064    \n",
            "_________________________________________________________________\n",
            "dense_6 (Dense)              (None, 64)                4160      \n",
            "_________________________________________________________________\n",
            "dense_7 (Dense)              (None, 3)                 195       \n",
            "=================================================================\n",
            "Total params: 644,419\n",
            "Trainable params: 644,419\n",
            "Non-trainable params: 0\n",
            "_________________________________________________________________\n"
          ],
          "name": "stdout"
        }
      ]
    },
    {
      "cell_type": "code",
      "metadata": {
        "id": "CSDB1eGsU5hp"
      },
      "source": [
        "reg_history = deep_model(reg_model)"
      ],
      "execution_count": 29,
      "outputs": []
    },
    {
      "cell_type": "markdown",
      "metadata": {
        "id": "u-zYx0LkU-wh"
      },
      "source": [
        "For the regularized model we notice that it starts overfitting earlier than the baseline model. However, the loss increases much slower afterwards."
      ]
    },
    {
      "cell_type": "code",
      "metadata": {
        "colab": {
          "base_uri": "https://localhost:8080/",
          "height": 266
        },
        "id": "eO2l7yKPU8tn",
        "outputId": "4b26df9e-3fa2-4c9f-f6d8-e7b1709d7383"
      },
      "source": [
        "compare_loss_with_baseline(reg_history, 'Regularized Model')"
      ],
      "execution_count": 30,
      "outputs": [
        {
          "output_type": "display_data",
          "data": {
            "image/png": "[encoded data removed]",
            "text/plain": [
              "<Figure size 432x288 with 1 Axes>"
            ]
          },
          "metadata": {
            "tags": [],
            "needs_background": "light"
          }
        }
      ]
    },
    {
      "cell_type": "markdown",
      "metadata": {
        "id": "c0cjPYw3VK2_"
      },
      "source": [
        "Adding dropout layers The last option we'll try is to add dropout layers."
      ]
    },
    {
      "cell_type": "code",
      "metadata": {
        "colab": {
          "base_uri": "https://localhost:8080/"
        },
        "id": "2pqthBe6VBZF",
        "outputId": "4e8185c0-e17f-45f1-c5d6-fad9ca554f68"
      },
      "source": [
        "drop_model = models.Sequential()\r\n",
        "drop_model.add(layers.Dense(64, activation='relu', input_shape=(NB_WORDS,)))\r\n",
        "drop_model.add(layers.Dropout(0.5))\r\n",
        "drop_model.add(layers.Dense(64, activation='relu'))\r\n",
        "drop_model.add(layers.Dropout(0.5))\r\n",
        "drop_model.add(layers.Dense(3, activation='softmax'))\r\n",
        "drop_model.summary()"
      ],
      "execution_count": 31,
      "outputs": [
        {
          "output_type": "stream",
          "text": [
            "Model: \"sequential_3\"\n",
            "_________________________________________________________________\n",
            "Layer (type)                 Output Shape              Param #   \n",
            "=================================================================\n",
            "dense_8 (Dense)              (None, 64)                640064    \n",
            "_________________________________________________________________\n",
            "dropout (Dropout)            (None, 64)                0         \n",
            "_________________________________________________________________\n",
            "dense_9 (Dense)              (None, 64)                4160      \n",
            "_________________________________________________________________\n",
            "dropout_1 (Dropout)          (None, 64)                0         \n",
            "_________________________________________________________________\n",
            "dense_10 (Dense)             (None, 3)                 195       \n",
            "=================================================================\n",
            "Total params: 644,419\n",
            "Trainable params: 644,419\n",
            "Non-trainable params: 0\n",
            "_________________________________________________________________\n"
          ],
          "name": "stdout"
        }
      ]
    },
    {
      "cell_type": "code",
      "metadata": {
        "id": "_4w_aaAuVOZj"
      },
      "source": [
        "drop_history = deep_model(drop_model)"
      ],
      "execution_count": 32,
      "outputs": []
    },
    {
      "cell_type": "markdown",
      "metadata": {
        "id": "XykvrHGMVWqG"
      },
      "source": [
        "The model with dropout layers starts overfitting a bit later than the baseline model. The loss also increases slower than the baseline model."
      ]
    },
    {
      "cell_type": "code",
      "metadata": {
        "colab": {
          "base_uri": "https://localhost:8080/",
          "height": 266
        },
        "id": "PcpZOb5ZVTNM",
        "outputId": "1af3995d-d960-451b-b3f1-1422a8f20153"
      },
      "source": [
        "compare_loss_with_baseline(drop_history, 'Dropout Model')"
      ],
      "execution_count": 33,
      "outputs": [
        {
          "output_type": "display_data",
          "data": {
            "image/png": "[encoded data removed]",
            "text/plain": [
              "<Figure size 432x288 with 1 Axes>"
            ]
          },
          "metadata": {
            "tags": [],
            "needs_background": "light"
          }
        }
      ]
    },
    {
      "cell_type": "markdown",
      "metadata": {
        "id": "kwY_Xjo4VfFU"
      },
      "source": [
        "Training on the full train data and evaluation on test data At first sight the reduced model seems to be the best model for generalization. But let's check that on the test set."
      ]
    },
    {
      "cell_type": "code",
      "metadata": {
        "id": "hLFsqc-8VZ76"
      },
      "source": [
        "def test_model(model, epoch_stop):\r\n",
        "    model.fit(X_train_oh\r\n",
        "              , y_train_oh\r\n",
        "              , epochs=epoch_stop\r\n",
        "              , batch_size=BATCH_SIZE\r\n",
        "              , verbose=0)\r\n",
        "    results = model.evaluate(X_test_oh, y_test_oh)\r\n",
        "    \r\n",
        "    return results"
      ],
      "execution_count": 34,
      "outputs": []
    },
    {
      "cell_type": "code",
      "metadata": {
        "colab": {
          "base_uri": "https://localhost:8080/"
        },
        "id": "1KNTOEVVVj7L",
        "outputId": "49260b3c-1cd0-4a89-d08e-2137cd224346"
      },
      "source": [
        "base_results = test_model(base_model, 4)\r\n",
        "print('/n')\r\n",
        "print('Test accuracy of baseline model: {0:.2f}%'.format(base_results[1]*100))"
      ],
      "execution_count": 35,
      "outputs": [
        {
          "output_type": "stream",
          "text": [
            "172/172 [==============================] - 0s 2ms/step - loss: 1.4392 - accuracy: 0.6530\n",
            "/n\n",
            "Test accuracy of baseline model: 65.30%\n"
          ],
          "name": "stdout"
        }
      ]
    },
    {
      "cell_type": "code",
      "metadata": {
        "colab": {
          "base_uri": "https://localhost:8080/"
        },
        "id": "ydDvhmG6Vm4y",
        "outputId": "979bf1eb-ca0f-42ba-ae76-0e8cef57f18d"
      },
      "source": [
        "reduced_results = test_model(reduced_model, 10)\r\n",
        "print('/n')\r\n",
        "print('Test accuracy of reduced model: {0:.2f}%'.format(reduced_results[1]*100))"
      ],
      "execution_count": 36,
      "outputs": [
        {
          "output_type": "stream",
          "text": [
            "172/172 [==============================] - 0s 2ms/step - loss: 0.9723 - accuracy: 0.6758\n",
            "/n\n",
            "Test accuracy of reduced model: 67.58%\n"
          ],
          "name": "stdout"
        }
      ]
    },
    {
      "cell_type": "code",
      "metadata": {
        "colab": {
          "base_uri": "https://localhost:8080/"
        },
        "id": "yLPeU6DxVrNp",
        "outputId": "e08382f4-00c3-4649-90c8-ecfa389d9787"
      },
      "source": [
        "reg_results = test_model(reg_model, 5)\r\n",
        "print('/n')\r\n",
        "print('Test accuracy of regularized model: {0:.2f}%'.format(reg_results[1]*100))"
      ],
      "execution_count": 37,
      "outputs": [
        {
          "output_type": "stream",
          "text": [
            "172/172 [==============================] - 0s 3ms/step - loss: 0.9905 - accuracy: 0.6983\n",
            "/n\n",
            "Test accuracy of regularized model: 69.83%\n"
          ],
          "name": "stdout"
        }
      ]
    },
    {
      "cell_type": "code",
      "metadata": {
        "colab": {
          "base_uri": "https://localhost:8080/"
        },
        "id": "EUa_e-wBVum1",
        "outputId": "ea5cfc9e-b577-4014-fb2e-cd01b59bca5d"
      },
      "source": [
        "drop_results = test_model(drop_model, 6)\r\n",
        "print('/n')\r\n",
        "print('Test accuracy of dropout model: {0:.2f}%'.format(drop_results[1]*100))"
      ],
      "execution_count": 38,
      "outputs": [
        {
          "output_type": "stream",
          "text": [
            "172/172 [==============================] - 0s 2ms/step - loss: 1.0773 - accuracy: 0.6843\n",
            "/n\n",
            "Test accuracy of dropout model: 68.43%\n"
          ],
          "name": "stdout"
        }
      ]
    },
    {
      "cell_type": "code",
      "metadata": {
        "id": "qNZp4Jo9VzQ8"
      },
      "source": [
        ""
      ],
      "execution_count": null,
      "outputs": []
    }
  ]
}