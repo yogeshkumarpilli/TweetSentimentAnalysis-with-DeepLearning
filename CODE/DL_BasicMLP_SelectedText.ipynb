{
  "nbformat": 4,
  "nbformat_minor": 0,
  "metadata": {
    "colab": {
      "name": "DL-BasicMLP-SelectedText.ipynb",
      "provenance": []
    },
    "kernelspec": {
      "name": "python3",
      "display_name": "Python 3"
    }
  },
  "cells": [
    {
      "cell_type": "code",
      "metadata": {
        "id": "SuEJJrMpOjM3"
      },
      "source": [
        "# Basic packages\r\n",
        "import pandas as pd \r\n",
        "import numpy as np\r\n",
        "import re\r\n",
        "import collections\r\n",
        "import matplotlib.pyplot as plt\r\n",
        "\r\n",
        "# Packages for data preparation\r\n",
        "from sklearn.model_selection import train_test_split\r\n",
        "from nltk.corpus import stopwords\r\n",
        "from keras.preprocessing.text import Tokenizer\r\n",
        "from keras.utils.np_utils import to_categorical\r\n",
        "from sklearn.preprocessing import LabelEncoder\r\n",
        "\r\n",
        "# Packages for modeling\r\n",
        "from keras import models\r\n",
        "from keras import layers\r\n",
        "from keras import regularizers"
      ],
      "execution_count": 1,
      "outputs": []
    },
    {
      "cell_type": "code",
      "metadata": {
        "id": "o2kye8CuRMdy"
      },
      "source": [
        "NB_WORDS = 10000  # Parameter indicating the number of words we'll put in the dictionary\r\n",
        "VAL_SIZE = 1000  # Size of the validation set\r\n",
        "NB_START_EPOCHS = 20  # Number of epochs we usually start to train with\r\n",
        "BATCH_SIZE = 512  # Size of the batches used in the mini-batch gradient descent"
      ],
      "execution_count": 2,
      "outputs": []
    },
    {
      "cell_type": "code",
      "metadata": {
        "id": "_Dqb6f7fSNbR"
      },
      "source": [
        "data = pd.read_csv('/content/drive/MyDrive/DeepLearningProject/train.csv')"
      ],
      "execution_count": 3,
      "outputs": []
    },
    {
      "cell_type": "code",
      "metadata": {
        "colab": {
          "base_uri": "https://localhost:8080/",
          "height": 402
        },
        "id": "_inoQcyAXl8L",
        "outputId": "daaeb0b7-0ba8-4628-9fe4-8f978e08b593"
      },
      "source": [
        "data"
      ],
      "execution_count": 4,
      "outputs": [
        {
          "output_type": "execute_result",
          "data": {
            "text/html": [
              "<div>\n",
              "<style scoped>\n",
              "    .dataframe tbody tr th:only-of-type {\n",
              "        vertical-align: middle;\n",
              "    }\n",
              "\n",
              "    .dataframe tbody tr th {\n",
              "        vertical-align: top;\n",
              "    }\n",
              "\n",
              "    .dataframe thead th {\n",
              "        text-align: right;\n",
              "    }\n",
              "</style>\n",
              "<table border=\"1\" class=\"dataframe\">\n",
              "  <thead>\n",
              "    <tr style=\"text-align: right;\">\n",
              "      <th></th>\n",
              "      <th>textID</th>\n",
              "      <th>text</th>\n",
              "      <th>selected_text</th>\n",
              "      <th>sentiment</th>\n",
              "    </tr>\n",
              "  </thead>\n",
              "  <tbody>\n",
              "    <tr>\n",
              "      <th>0</th>\n",
              "      <td>cb774db0d1</td>\n",
              "      <td>I`d have responded, if I were going</td>\n",
              "      <td>I`d have responded, if I were going</td>\n",
              "      <td>neutral</td>\n",
              "    </tr>\n",
              "    <tr>\n",
              "      <th>1</th>\n",
              "      <td>549e992a42</td>\n",
              "      <td>Sooo SAD I will miss you here in San Diego!!!</td>\n",
              "      <td>Sooo SAD</td>\n",
              "      <td>negative</td>\n",
              "    </tr>\n",
              "    <tr>\n",
              "      <th>2</th>\n",
              "      <td>088c60f138</td>\n",
              "      <td>my boss is bullying me...</td>\n",
              "      <td>bullying me</td>\n",
              "      <td>negative</td>\n",
              "    </tr>\n",
              "    <tr>\n",
              "      <th>3</th>\n",
              "      <td>9642c003ef</td>\n",
              "      <td>what interview! leave me alone</td>\n",
              "      <td>leave me alone</td>\n",
              "      <td>negative</td>\n",
              "    </tr>\n",
              "    <tr>\n",
              "      <th>4</th>\n",
              "      <td>358bd9e861</td>\n",
              "      <td>Sons of ****, why couldn`t they put them on t...</td>\n",
              "      <td>Sons of ****,</td>\n",
              "      <td>negative</td>\n",
              "    </tr>\n",
              "    <tr>\n",
              "      <th>...</th>\n",
              "      <td>...</td>\n",
              "      <td>...</td>\n",
              "      <td>...</td>\n",
              "      <td>...</td>\n",
              "    </tr>\n",
              "    <tr>\n",
              "      <th>27476</th>\n",
              "      <td>4eac33d1c0</td>\n",
              "      <td>wish we could come see u on Denver  husband l...</td>\n",
              "      <td>d lost</td>\n",
              "      <td>negative</td>\n",
              "    </tr>\n",
              "    <tr>\n",
              "      <th>27477</th>\n",
              "      <td>4f4c4fc327</td>\n",
              "      <td>I`ve wondered about rake to.  The client has ...</td>\n",
              "      <td>, don`t force</td>\n",
              "      <td>negative</td>\n",
              "    </tr>\n",
              "    <tr>\n",
              "      <th>27478</th>\n",
              "      <td>f67aae2310</td>\n",
              "      <td>Yay good for both of you. Enjoy the break - y...</td>\n",
              "      <td>Yay good for both of you.</td>\n",
              "      <td>positive</td>\n",
              "    </tr>\n",
              "    <tr>\n",
              "      <th>27479</th>\n",
              "      <td>ed167662a5</td>\n",
              "      <td>But it was worth it  ****.</td>\n",
              "      <td>But it was worth it  ****.</td>\n",
              "      <td>positive</td>\n",
              "    </tr>\n",
              "    <tr>\n",
              "      <th>27480</th>\n",
              "      <td>6f7127d9d7</td>\n",
              "      <td>All this flirting going on - The ATG smiles...</td>\n",
              "      <td>All this flirting going on - The ATG smiles. Y...</td>\n",
              "      <td>neutral</td>\n",
              "    </tr>\n",
              "  </tbody>\n",
              "</table>\n",
              "<p>27481 rows × 4 columns</p>\n",
              "</div>"
            ],
            "text/plain": [
              "           textID  ... sentiment\n",
              "0      cb774db0d1  ...   neutral\n",
              "1      549e992a42  ...  negative\n",
              "2      088c60f138  ...  negative\n",
              "3      9642c003ef  ...  negative\n",
              "4      358bd9e861  ...  negative\n",
              "...           ...  ...       ...\n",
              "27476  4eac33d1c0  ...  negative\n",
              "27477  4f4c4fc327  ...  negative\n",
              "27478  f67aae2310  ...  positive\n",
              "27479  ed167662a5  ...  positive\n",
              "27480  6f7127d9d7  ...   neutral\n",
              "\n",
              "[27481 rows x 4 columns]"
            ]
          },
          "metadata": {
            "tags": []
          },
          "execution_count": 4
        }
      ]
    },
    {
      "cell_type": "code",
      "metadata": {
        "id": "E0ldfNOmSQM3"
      },
      "source": [
        "data.dropna(subset = [\"selected_text\"], inplace=True)"
      ],
      "execution_count": 5,
      "outputs": []
    },
    {
      "cell_type": "code",
      "metadata": {
        "colab": {
          "base_uri": "https://localhost:8080/",
          "height": 195
        },
        "id": "5Jq60RylSVnZ",
        "outputId": "91bf2dd6-c488-47ac-ecb5-abc6f0d8bb35"
      },
      "source": [
        "df = data\r\n",
        "df = df.reindex(np.random.permutation(df.index))  \r\n",
        "df = df[['selected_text', 'sentiment']]\r\n",
        "df.head()"
      ],
      "execution_count": 6,
      "outputs": [
        {
          "output_type": "execute_result",
          "data": {
            "text/html": [
              "<div>\n",
              "<style scoped>\n",
              "    .dataframe tbody tr th:only-of-type {\n",
              "        vertical-align: middle;\n",
              "    }\n",
              "\n",
              "    .dataframe tbody tr th {\n",
              "        vertical-align: top;\n",
              "    }\n",
              "\n",
              "    .dataframe thead th {\n",
              "        text-align: right;\n",
              "    }\n",
              "</style>\n",
              "<table border=\"1\" class=\"dataframe\">\n",
              "  <thead>\n",
              "    <tr style=\"text-align: right;\">\n",
              "      <th></th>\n",
              "      <th>selected_text</th>\n",
              "      <th>sentiment</th>\n",
              "    </tr>\n",
              "  </thead>\n",
              "  <tbody>\n",
              "    <tr>\n",
              "      <th>25917</th>\n",
              "      <td>enjoying</td>\n",
              "      <td>positive</td>\n",
              "    </tr>\n",
              "    <tr>\n",
              "      <th>1345</th>\n",
              "      <td>Trying to watch your vids, but the audio has b...</td>\n",
              "      <td>neutral</td>\n",
              "    </tr>\n",
              "    <tr>\n",
              "      <th>25992</th>\n",
              "      <td>I am in total love</td>\n",
              "      <td>positive</td>\n",
              "    </tr>\n",
              "    <tr>\n",
              "      <th>25698</th>\n",
              "      <td>. I think mine`s the best, but I`m biased</td>\n",
              "      <td>neutral</td>\n",
              "    </tr>\n",
              "    <tr>\n",
              "      <th>8857</th>\n",
              "      <td>-HI lady! sorry for the delayed response. appr...</td>\n",
              "      <td>neutral</td>\n",
              "    </tr>\n",
              "  </tbody>\n",
              "</table>\n",
              "</div>"
            ],
            "text/plain": [
              "                                           selected_text sentiment\n",
              "25917                                           enjoying  positive\n",
              "1345   Trying to watch your vids, but the audio has b...   neutral\n",
              "25992                                 I am in total love  positive\n",
              "25698          . I think mine`s the best, but I`m biased   neutral\n",
              "8857   -HI lady! sorry for the delayed response. appr...   neutral"
            ]
          },
          "metadata": {
            "tags": []
          },
          "execution_count": 6
        }
      ]
    },
    {
      "cell_type": "code",
      "metadata": {
        "colab": {
          "base_uri": "https://localhost:8080/"
        },
        "id": "d-jQMylfSX3A",
        "outputId": "ad4211e2-36cd-4c69-a327-016d52fe2b5a"
      },
      "source": [
        "df.isnull().sum()"
      ],
      "execution_count": 7,
      "outputs": [
        {
          "output_type": "execute_result",
          "data": {
            "text/plain": [
              "selected_text    0\n",
              "sentiment        0\n",
              "dtype: int64"
            ]
          },
          "metadata": {
            "tags": []
          },
          "execution_count": 7
        }
      ]
    },
    {
      "cell_type": "code",
      "metadata": {
        "colab": {
          "base_uri": "https://localhost:8080/"
        },
        "id": "UMUOGdo4SbsC",
        "outputId": "b26a8969-a009-4888-c601-56c1e79828cd"
      },
      "source": [
        "import nltk\r\n",
        "nltk.download('stopwords')"
      ],
      "execution_count": 8,
      "outputs": [
        {
          "output_type": "stream",
          "text": [
            "[nltk_data] Downloading package stopwords to /root/nltk_data...\n",
            "[nltk_data]   Unzipping corpora/stopwords.zip.\n"
          ],
          "name": "stdout"
        },
        {
          "output_type": "execute_result",
          "data": {
            "text/plain": [
              "True"
            ]
          },
          "metadata": {
            "tags": []
          },
          "execution_count": 8
        }
      ]
    },
    {
      "cell_type": "code",
      "metadata": {
        "colab": {
          "base_uri": "https://localhost:8080/",
          "height": 195
        },
        "id": "4Tr-TlIwSfG9",
        "outputId": "513d9c7b-23ab-4db1-e29d-46c33b797619"
      },
      "source": [
        "def remove_stopwords(input_text):\r\n",
        "        stopwords_list = stopwords.words('english')\r\n",
        "        # Some words which might indicate a certain sentiment are kept via a whitelist\r\n",
        "        whitelist = [\"n't\", \"not\", \"no\"]\r\n",
        "        words = input_text.split() \r\n",
        "        clean_words = [word for word in words if (word not in stopwords_list or word in whitelist) and len(word) > 1] \r\n",
        "        return \" \".join(clean_words) \r\n",
        "    \r\n",
        "def remove_mentions(input_text):\r\n",
        "        return re.sub(r'@\\w+', '', input_text)\r\n",
        "       \r\n",
        "df.selected_text = df.selected_text.apply(remove_stopwords).apply(remove_mentions)\r\n",
        "df.head()"
      ],
      "execution_count": 10,
      "outputs": [
        {
          "output_type": "execute_result",
          "data": {
            "text/html": [
              "<div>\n",
              "<style scoped>\n",
              "    .dataframe tbody tr th:only-of-type {\n",
              "        vertical-align: middle;\n",
              "    }\n",
              "\n",
              "    .dataframe tbody tr th {\n",
              "        vertical-align: top;\n",
              "    }\n",
              "\n",
              "    .dataframe thead th {\n",
              "        text-align: right;\n",
              "    }\n",
              "</style>\n",
              "<table border=\"1\" class=\"dataframe\">\n",
              "  <thead>\n",
              "    <tr style=\"text-align: right;\">\n",
              "      <th></th>\n",
              "      <th>selected_text</th>\n",
              "      <th>sentiment</th>\n",
              "    </tr>\n",
              "  </thead>\n",
              "  <tbody>\n",
              "    <tr>\n",
              "      <th>25917</th>\n",
              "      <td>enjoying</td>\n",
              "      <td>positive</td>\n",
              "    </tr>\n",
              "    <tr>\n",
              "      <th>1345</th>\n",
              "      <td>Trying watch vids, audio disabled</td>\n",
              "      <td>neutral</td>\n",
              "    </tr>\n",
              "    <tr>\n",
              "      <th>25992</th>\n",
              "      <td>total love</td>\n",
              "      <td>positive</td>\n",
              "    </tr>\n",
              "    <tr>\n",
              "      <th>25698</th>\n",
              "      <td>think mine`s best, I`m biased</td>\n",
              "      <td>neutral</td>\n",
              "    </tr>\n",
              "    <tr>\n",
              "      <th>8857</th>\n",
              "      <td>-HI lady! sorry delayed response. appreciate l...</td>\n",
              "      <td>neutral</td>\n",
              "    </tr>\n",
              "  </tbody>\n",
              "</table>\n",
              "</div>"
            ],
            "text/plain": [
              "                                           selected_text sentiment\n",
              "25917                                           enjoying  positive\n",
              "1345                   Trying watch vids, audio disabled   neutral\n",
              "25992                                         total love  positive\n",
              "25698                      think mine`s best, I`m biased   neutral\n",
              "8857   -HI lady! sorry delayed response. appreciate l...   neutral"
            ]
          },
          "metadata": {
            "tags": []
          },
          "execution_count": 10
        }
      ]
    },
    {
      "cell_type": "code",
      "metadata": {
        "colab": {
          "base_uri": "https://localhost:8080/"
        },
        "id": "h4X9yqALSh9o",
        "outputId": "c5b760ae-2a39-4dcc-ae3c-d3a793e1cb7b"
      },
      "source": [
        "X_train, X_test, y_train, y_test = train_test_split(df.selected_text, df.sentiment, test_size=0.2, random_state=37)\r\n",
        "print('# Train data samples:', X_train.shape[0])\r\n",
        "print('# Test data samples:', X_test.shape[0])\r\n",
        "assert X_train.shape[0] == y_train.shape[0]\r\n",
        "assert X_test.shape[0] == y_test.shape[0]"
      ],
      "execution_count": 11,
      "outputs": [
        {
          "output_type": "stream",
          "text": [
            "# Train data samples: 21984\n",
            "# Test data samples: 5496\n"
          ],
          "name": "stdout"
        }
      ]
    },
    {
      "cell_type": "code",
      "metadata": {
        "colab": {
          "base_uri": "https://localhost:8080/"
        },
        "id": "JVSaavb1SlXN",
        "outputId": "77652a39-3037-4acc-a46d-84dafb33ac6b"
      },
      "source": [
        "tk = Tokenizer(num_words=NB_WORDS,\r\n",
        "               filters='!\"#$%&()*+,-./:;<=>?@[\\\\]^_`{|}~\\t\\n',\r\n",
        "               lower=True,\r\n",
        "               split=\" \")\r\n",
        "tk.fit_on_texts(X_train)\r\n",
        "\r\n",
        "print('Fitted tokenizer on {} documents'.format(tk.document_count))\r\n",
        "print('{} words in dictionary'.format(tk.num_words))\r\n",
        "print('Top 5 most common words are:', collections.Counter(tk.word_counts).most_common(5))"
      ],
      "execution_count": 12,
      "outputs": [
        {
          "output_type": "stream",
          "text": [
            "Fitted tokenizer on 21984 documents\n",
            "10000 words in dictionary\n",
            "Top 5 most common words are: [('t', 1544), ('s', 1519), ('i', 1499), ('good', 1016), ('m', 996)]\n"
          ],
          "name": "stdout"
        }
      ]
    },
    {
      "cell_type": "markdown",
      "metadata": {
        "id": "nNgysK5NSwvX"
      },
      "source": [
        "After having created the dictionary we can convert the text to a list of integer indexes. This is done with the text_to_sequences method of the Tokenizer."
      ]
    },
    {
      "cell_type": "code",
      "metadata": {
        "id": "RN7jUYp6Sqm_"
      },
      "source": [
        "X_train_seq = tk.texts_to_sequences(X_train)\r\n",
        "X_test_seq = tk.texts_to_sequences(X_test)\r\n"
      ],
      "execution_count": 13,
      "outputs": []
    },
    {
      "cell_type": "code",
      "metadata": {
        "id": "XVtdi7XSS02i"
      },
      "source": [
        "def one_hot_seq(seqs, nb_features = NB_WORDS):\r\n",
        "    ohs = np.zeros((len(seqs), nb_features))\r\n",
        "    for i, s in enumerate(seqs):\r\n",
        "        ohs[i, s] = 1.\r\n",
        "    return ohs\r\n",
        "\r\n",
        "X_train_oh = one_hot_seq(X_train_seq)\r\n",
        "X_test_oh = one_hot_seq(X_test_seq)"
      ],
      "execution_count": 14,
      "outputs": []
    },
    {
      "cell_type": "code",
      "metadata": {
        "colab": {
          "base_uri": "https://localhost:8080/"
        },
        "id": "CBiE0RTrS3qD",
        "outputId": "52a228d1-30f8-4d2d-bd59-1a904b8bebc0"
      },
      "source": [
        "print('\"{}\" is converted into {}'.format(X_train_seq[0], X_train_oh[0]))\r\n",
        "print('For this example we have {} features with a value of 1.'.format(X_train_oh[0].sum()))"
      ],
      "execution_count": 15,
      "outputs": [
        {
          "output_type": "stream",
          "text": [
            "\"[6025, 3103, 6026]\" is converted into [0. 0. 0. ... 0. 0. 0.]\n",
            "For this example we have 3.0 features with a value of 1.\n"
          ],
          "name": "stdout"
        }
      ]
    },
    {
      "cell_type": "code",
      "metadata": {
        "id": "_QLZo-U5S6yO"
      },
      "source": [
        "le = LabelEncoder()\r\n",
        "y_train_le = le.fit_transform(y_train)\r\n",
        "y_test_le = le.transform(y_test)\r\n",
        "y_train_oh = to_categorical(y_train_le)\r\n",
        "y_test_oh = to_categorical(y_test_le)"
      ],
      "execution_count": 16,
      "outputs": []
    },
    {
      "cell_type": "code",
      "metadata": {
        "colab": {
          "base_uri": "https://localhost:8080/"
        },
        "id": "NnLy7_EfTD4Z",
        "outputId": "081c3537-e985-40f4-a423-29d100ee3540"
      },
      "source": [
        "print('\"{}\" is converted into {}'.format(y_train_le[0], y_train_oh[0]))"
      ],
      "execution_count": 17,
      "outputs": [
        {
          "output_type": "stream",
          "text": [
            "\"2\" is converted into [0. 0. 1.]\n"
          ],
          "name": "stdout"
        }
      ]
    },
    {
      "cell_type": "code",
      "metadata": {
        "colab": {
          "base_uri": "https://localhost:8080/"
        },
        "id": "de6CjZ3-TG-5",
        "outputId": "74592fbb-deeb-43d3-c280-5e63530348fd"
      },
      "source": [
        "print(X_train_oh.shape)"
      ],
      "execution_count": 18,
      "outputs": [
        {
          "output_type": "stream",
          "text": [
            "(21984, 10000)\n"
          ],
          "name": "stdout"
        }
      ]
    },
    {
      "cell_type": "code",
      "metadata": {
        "colab": {
          "base_uri": "https://localhost:8080/"
        },
        "id": "_wukDHc9TNqv",
        "outputId": "bac40917-83f4-4793-cfb1-e65288252611"
      },
      "source": [
        "X_train_rest, X_valid, y_train_rest, y_valid = train_test_split(X_train_oh, y_train_oh, test_size=0.2, random_state=37)\r\n",
        "\r\n",
        "assert X_valid.shape[0] == y_valid.shape[0]\r\n",
        "assert X_train_rest.shape[0] == y_train_rest.shape[0]\r\n",
        "\r\n",
        "print('Shape of validation set:',X_valid.shape)\r\n",
        "print('Shape of validation set:',X_train_rest.shape)"
      ],
      "execution_count": 19,
      "outputs": [
        {
          "output_type": "stream",
          "text": [
            "Shape of validation set: (4397, 10000)\n",
            "Shape of validation set: (17587, 10000)\n"
          ],
          "name": "stdout"
        }
      ]
    },
    {
      "cell_type": "markdown",
      "metadata": {
        "id": "JVmq0CvoTnWE"
      },
      "source": [
        "Baseline model We start with a model with 2 densely connected layers of 64 hidden elements. The input_shape for the first layer is equal to the number of words we allowed in the dictionary and for which we created one-hot-encoded features.\r\n",
        "\r\n",
        "As we need to predict 3 different sentiment classes, the last layer has 3 hidden elements. The softmax activation function makes sure the three probabilities sum up to 1.\r\n",
        "\r\n",
        "In the first layer we need to estimate 640064 weights. This is determined by (nb inputs * nb hidden elements) + nb bias terms, or (10000 x 64) + 64 = 640064 In the second layer we estimate (64 x 64) + 64 = 4160 weights In the last layer we estimate (64 x 3) + 3 = 195 weights"
      ]
    },
    {
      "cell_type": "code",
      "metadata": {
        "colab": {
          "base_uri": "https://localhost:8080/"
        },
        "id": "ESIjGTUsThuU",
        "outputId": "f9a0c935-00f1-490a-e319-352af6ddfca7"
      },
      "source": [
        "base_model = models.Sequential()\r\n",
        "base_model.add(layers.Dense(64, activation='relu', input_shape=(NB_WORDS,)))\r\n",
        "base_model.add(layers.Dense(64, activation='relu'))\r\n",
        "base_model.add(layers.Dense(3, activation='softmax'))\r\n",
        "base_model.summary()"
      ],
      "execution_count": 20,
      "outputs": [
        {
          "output_type": "stream",
          "text": [
            "Model: \"sequential\"\n",
            "_________________________________________________________________\n",
            "Layer (type)                 Output Shape              Param #   \n",
            "=================================================================\n",
            "dense (Dense)                (None, 64)                640064    \n",
            "_________________________________________________________________\n",
            "dense_1 (Dense)              (None, 64)                4160      \n",
            "_________________________________________________________________\n",
            "dense_2 (Dense)              (None, 3)                 195       \n",
            "=================================================================\n",
            "Total params: 644,419\n",
            "Trainable params: 644,419\n",
            "Non-trainable params: 0\n",
            "_________________________________________________________________\n"
          ],
          "name": "stdout"
        }
      ]
    },
    {
      "cell_type": "code",
      "metadata": {
        "id": "Uy4Wl-fyTxu2"
      },
      "source": [
        "def deep_model(model):\r\n",
        "    model.compile(optimizer='rmsprop'\r\n",
        "                  , loss='categorical_crossentropy'\r\n",
        "                  , metrics=['accuracy'])\r\n",
        "    \r\n",
        "    history = model.fit(X_train_rest\r\n",
        "                       , y_train_rest\r\n",
        "                       , epochs=NB_START_EPOCHS\r\n",
        "                       , batch_size=BATCH_SIZE\r\n",
        "                       , validation_data=(X_valid, y_valid)\r\n",
        "                       , verbose=0)\r\n",
        "    \r\n",
        "    return history"
      ],
      "execution_count": 21,
      "outputs": []
    },
    {
      "cell_type": "code",
      "metadata": {
        "id": "lq9BPFDAT1yX"
      },
      "source": [
        "base_history = deep_model(base_model)"
      ],
      "execution_count": 22,
      "outputs": []
    },
    {
      "cell_type": "code",
      "metadata": {
        "id": "-FeTDdioT3yn"
      },
      "source": [
        "def eval_metric(history, metric_name):\r\n",
        "    metric = history.history[metric_name]\r\n",
        "    val_metric = history.history['val_' + metric_name]\r\n",
        "\r\n",
        "    e = range(1, NB_START_EPOCHS + 1)\r\n",
        "\r\n",
        "    plt.plot(e, metric, 'bo', label='Train ' + metric_name)\r\n",
        "    plt.plot(e, val_metric, 'b', label='Validation ' + metric_name)\r\n",
        "    plt.legend()\r\n",
        "    plt.show()"
      ],
      "execution_count": 23,
      "outputs": []
    },
    {
      "cell_type": "markdown",
      "metadata": {
        "id": "AgSyPb4kT9yR"
      },
      "source": [
        "We can see here that the validation loss starts to increase as from epoch 4. The training loss continues to lower, which is normal as the model is trained to fit the train data as good as possible"
      ]
    },
    {
      "cell_type": "code",
      "metadata": {
        "colab": {
          "base_uri": "https://localhost:8080/",
          "height": 265
        },
        "id": "wvqSA2vVT6ib",
        "outputId": "f4ea31c4-c04c-4c5c-97e8-5fc79dfb3a87"
      },
      "source": [
        "eval_metric(base_history, 'loss')"
      ],
      "execution_count": 24,
      "outputs": [
        {
          "output_type": "display_data",
          "data": {
            "image/png": "[encoded data removed]",
            "text/plain": [
              "<Figure size 432x288 with 1 Axes>"
            ]
          },
          "metadata": {
            "tags": [],
            "needs_background": "light"
          }
        }
      ]
    },
    {
      "cell_type": "markdown",
      "metadata": {
        "id": "C90O43QjUDGD"
      },
      "source": [
        "Just as with the validation loss, the validation accuracy peaks at an early epoch. After that, it goes down slightly. So to conclude, we can say that the model starts overfitting as from epoch 4"
      ]
    },
    {
      "cell_type": "code",
      "metadata": {
        "colab": {
          "base_uri": "https://localhost:8080/",
          "height": 265
        },
        "id": "KSDg3Pa8UAJ-",
        "outputId": "2370332f-fae3-49a7-e20c-31857968e5a6"
      },
      "source": [
        "eval_metric(base_history, 'accuracy')"
      ],
      "execution_count": 25,
      "outputs": [
        {
          "output_type": "display_data",
          "data": {
            "image/png": "[encoded data removed]",
            "text/plain": [
              "<Figure size 432x288 with 1 Axes>"
            ]
          },
          "metadata": {
            "tags": [],
            "needs_background": "light"
          }
        }
      ]
    },
    {
      "cell_type": "markdown",
      "metadata": {
        "id": "4Cna_UdgUNSr"
      },
      "source": [
        "## Handling overfitting\r\n",
        "Now, we can try to do something about the overfitting. There are different options to do that.\r\n",
        "\r\n",
        "#### Option 1: reduce the network's size by removing layers or reducing the number of hidden elements in the layers\r\n",
        "\r\n",
        "#### Option 2: add regularization, which comes down to adding a cost to the loss function for large weights\r\n",
        "\r\n",
        "#### Option 3: adding dropout layers, which will randomly remove certain features by setting them to zero\r\n",
        "\r\n",
        "Reducing the network's size We reduce the network's size by removing one layer and lowering the number of hidden elements in the remaining layer to 32."
      ]
    },
    {
      "cell_type": "code",
      "metadata": {
        "colab": {
          "base_uri": "https://localhost:8080/"
        },
        "id": "FbOVxcntUJjt",
        "outputId": "c790eef6-4c6b-48fa-8ec5-7af53e4fb465"
      },
      "source": [
        "reduced_model = models.Sequential()\r\n",
        "reduced_model.add(layers.Dense(32, activation='relu', input_shape=(NB_WORDS,)))\r\n",
        "reduced_model.add(layers.Dense(3, activation='softmax'))\r\n",
        "reduced_model.summary()"
      ],
      "execution_count": 26,
      "outputs": [
        {
          "output_type": "stream",
          "text": [
            "Model: \"sequential_1\"\n",
            "_________________________________________________________________\n",
            "Layer (type)                 Output Shape              Param #   \n",
            "=================================================================\n",
            "dense_3 (Dense)              (None, 32)                320032    \n",
            "_________________________________________________________________\n",
            "dense_4 (Dense)              (None, 3)                 99        \n",
            "=================================================================\n",
            "Total params: 320,131\n",
            "Trainable params: 320,131\n",
            "Non-trainable params: 0\n",
            "_________________________________________________________________\n"
          ],
          "name": "stdout"
        }
      ]
    },
    {
      "cell_type": "code",
      "metadata": {
        "id": "mbUW0SsQUf0j"
      },
      "source": [
        "reduced_history = deep_model(reduced_model)"
      ],
      "execution_count": 27,
      "outputs": []
    },
    {
      "cell_type": "code",
      "metadata": {
        "id": "A3uWD2CJUjxJ"
      },
      "source": [
        "def compare_loss_with_baseline(h, model_name):\r\n",
        "    loss_base_model = base_history.history['val_loss']\r\n",
        "    loss_model = h.history['val_loss']\r\n",
        "\r\n",
        "    e = range(1, NB_START_EPOCHS + 1)\r\n",
        "\r\n",
        "    plt.plot(e, loss_base_model, 'bo', label='Validation Loss Baseline Model')\r\n",
        "    plt.plot(e, loss_model, 'b', label='Validation Loss ' + model_name)\r\n",
        "    plt.legend()\r\n",
        "    plt.show()"
      ],
      "execution_count": 28,
      "outputs": []
    },
    {
      "cell_type": "markdown",
      "metadata": {
        "id": "xEvgCAtWUtEN"
      },
      "source": [
        "We can see that it takes more epochs before the reduced model starts overfitting (around epoch 10). Moreover, the loss increases much slower after that epoch compared to the baseline model."
      ]
    },
    {
      "cell_type": "code",
      "metadata": {
        "colab": {
          "base_uri": "https://localhost:8080/",
          "height": 265
        },
        "id": "Be33_pkGUqCY",
        "outputId": "85155718-732c-4d5e-ee42-926feb9e78e9"
      },
      "source": [
        "compare_loss_with_baseline(reduced_history, 'Reduced Model')"
      ],
      "execution_count": 29,
      "outputs": [
        {
          "output_type": "display_data",
          "data": {
            "image/png": "[encoded data removed]",
            "text/plain": [
              "<Figure size 432x288 with 1 Axes>"
            ]
          },
          "metadata": {
            "tags": [],
            "needs_background": "light"
          }
        }
      ]
    },
    {
      "cell_type": "markdown",
      "metadata": {
        "id": "YWyx-d31U2x8"
      },
      "source": [
        "Adding regularization To address overfitting, we can also add regularization to the model. Let's try with L2 regularization"
      ]
    },
    {
      "cell_type": "code",
      "metadata": {
        "colab": {
          "base_uri": "https://localhost:8080/"
        },
        "id": "wF6u9xH5UvwU",
        "outputId": "dfbf1b97-95fa-4f21-a10f-a039127ddb2f"
      },
      "source": [
        "reg_model = models.Sequential()\r\n",
        "reg_model.add(layers.Dense(64, kernel_regularizer=regularizers.l2(0.001), activation='relu', input_shape=(NB_WORDS,)))\r\n",
        "reg_model.add(layers.Dense(64, kernel_regularizer=regularizers.l2(0.001), activation='relu'))\r\n",
        "reg_model.add(layers.Dense(3, activation='softmax'))\r\n",
        "reg_model.summary()"
      ],
      "execution_count": 30,
      "outputs": [
        {
          "output_type": "stream",
          "text": [
            "Model: \"sequential_2\"\n",
            "_________________________________________________________________\n",
            "Layer (type)                 Output Shape              Param #   \n",
            "=================================================================\n",
            "dense_5 (Dense)              (None, 64)                640064    \n",
            "_________________________________________________________________\n",
            "dense_6 (Dense)              (None, 64)                4160      \n",
            "_________________________________________________________________\n",
            "dense_7 (Dense)              (None, 3)                 195       \n",
            "=================================================================\n",
            "Total params: 644,419\n",
            "Trainable params: 644,419\n",
            "Non-trainable params: 0\n",
            "_________________________________________________________________\n"
          ],
          "name": "stdout"
        }
      ]
    },
    {
      "cell_type": "code",
      "metadata": {
        "id": "CSDB1eGsU5hp"
      },
      "source": [
        "reg_history = deep_model(reg_model)"
      ],
      "execution_count": 31,
      "outputs": []
    },
    {
      "cell_type": "markdown",
      "metadata": {
        "id": "u-zYx0LkU-wh"
      },
      "source": [
        "For the regularized model we notice that it starts overfitting earlier than the baseline model. However, the loss increases much slower afterwards."
      ]
    },
    {
      "cell_type": "code",
      "metadata": {
        "colab": {
          "base_uri": "https://localhost:8080/",
          "height": 265
        },
        "id": "eO2l7yKPU8tn",
        "outputId": "43f1b7e0-23c5-407b-cfc2-87fd516f5ae6"
      },
      "source": [
        "compare_loss_with_baseline(reg_history, 'Regularized Model')"
      ],
      "execution_count": 32,
      "outputs": [
        {
          "output_type": "display_data",
          "data": {
            "image/png": "[encoded data removed]",
            "text/plain": [
              "<Figure size 432x288 with 1 Axes>"
            ]
          },
          "metadata": {
            "tags": [],
            "needs_background": "light"
          }
        }
      ]
    },
    {
      "cell_type": "markdown",
      "metadata": {
        "id": "c0cjPYw3VK2_"
      },
      "source": [
        "Adding dropout layers The last option we'll try is to add dropout layers."
      ]
    },
    {
      "cell_type": "code",
      "metadata": {
        "colab": {
          "base_uri": "https://localhost:8080/"
        },
        "id": "2pqthBe6VBZF",
        "outputId": "0b2fa44b-3dea-4a8a-e062-e7c99cf5ca56"
      },
      "source": [
        "drop_model = models.Sequential()\r\n",
        "drop_model.add(layers.Dense(64, activation='relu', input_shape=(NB_WORDS,)))\r\n",
        "drop_model.add(layers.Dropout(0.5))\r\n",
        "drop_model.add(layers.Dense(64, activation='relu'))\r\n",
        "drop_model.add(layers.Dropout(0.5))\r\n",
        "drop_model.add(layers.Dense(3, activation='softmax'))\r\n",
        "drop_model.summary()"
      ],
      "execution_count": 33,
      "outputs": [
        {
          "output_type": "stream",
          "text": [
            "Model: \"sequential_3\"\n",
            "_________________________________________________________________\n",
            "Layer (type)                 Output Shape              Param #   \n",
            "=================================================================\n",
            "dense_8 (Dense)              (None, 64)                640064    \n",
            "_________________________________________________________________\n",
            "dropout (Dropout)            (None, 64)                0         \n",
            "_________________________________________________________________\n",
            "dense_9 (Dense)              (None, 64)                4160      \n",
            "_________________________________________________________________\n",
            "dropout_1 (Dropout)          (None, 64)                0         \n",
            "_________________________________________________________________\n",
            "dense_10 (Dense)             (None, 3)                 195       \n",
            "=================================================================\n",
            "Total params: 644,419\n",
            "Trainable params: 644,419\n",
            "Non-trainable params: 0\n",
            "_________________________________________________________________\n"
          ],
          "name": "stdout"
        }
      ]
    },
    {
      "cell_type": "code",
      "metadata": {
        "id": "_4w_aaAuVOZj"
      },
      "source": [
        "drop_history = deep_model(drop_model)"
      ],
      "execution_count": 34,
      "outputs": []
    },
    {
      "cell_type": "markdown",
      "metadata": {
        "id": "XykvrHGMVWqG"
      },
      "source": [
        "The model with dropout layers starts overfitting a bit later than the baseline model. The loss also increases slower than the baseline model."
      ]
    },
    {
      "cell_type": "code",
      "metadata": {
        "colab": {
          "base_uri": "https://localhost:8080/",
          "height": 265
        },
        "id": "PcpZOb5ZVTNM",
        "outputId": "435bbe95-0508-4906-82b3-820397f078c3"
      },
      "source": [
        "compare_loss_with_baseline(drop_history, 'Dropout Model')"
      ],
      "execution_count": 35,
      "outputs": [
        {
          "output_type": "display_data",
          "data": {
            "image/png": "[encoded data removed]",
            "text/plain": [
              "<Figure size 432x288 with 1 Axes>"
            ]
          },
          "metadata": {
            "tags": [],
            "needs_background": "light"
          }
        }
      ]
    },
    {
      "cell_type": "markdown",
      "metadata": {
        "id": "kwY_Xjo4VfFU"
      },
      "source": [
        "Training on the full train data and evaluation on test data At first sight the reduced model seems to be the best model for generalization. But let's check that on the test set."
      ]
    },
    {
      "cell_type": "code",
      "metadata": {
        "id": "hLFsqc-8VZ76"
      },
      "source": [
        "def test_model(model, epoch_stop):\r\n",
        "    model.fit(X_train_oh\r\n",
        "              , y_train_oh\r\n",
        "              , epochs=epoch_stop\r\n",
        "              , batch_size=BATCH_SIZE\r\n",
        "              , verbose=0)\r\n",
        "    results = model.evaluate(X_test_oh, y_test_oh)\r\n",
        "    \r\n",
        "    return results"
      ],
      "execution_count": 36,
      "outputs": []
    },
    {
      "cell_type": "markdown",
      "metadata": {
        "id": "20I3fM1HYk-1"
      },
      "source": [
        "TESTING WITH 2 EPOCHS"
      ]
    },
    {
      "cell_type": "code",
      "metadata": {
        "id": "aSA0zrFBZKML"
      },
      "source": [
        "epoch_stop = 2"
      ],
      "execution_count": 42,
      "outputs": []
    },
    {
      "cell_type": "code",
      "metadata": {
        "colab": {
          "base_uri": "https://localhost:8080/"
        },
        "id": "1KNTOEVVVj7L",
        "outputId": "7a5bb119-fcb4-46e7-bd7a-f03c8276e76b"
      },
      "source": [
        "base_results = test_model(base_model, epoch_stop)\r\n",
        "print('/n')\r\n",
        "print('Test accuracy of baseline model: {0:.2f}%'.format(base_results[1]*100))"
      ],
      "execution_count": 43,
      "outputs": [
        {
          "output_type": "stream",
          "text": [
            "172/172 [==============================] - 0s 2ms/step - loss: 0.8725 - accuracy: 0.7953\n",
            "/n\n",
            "Test accuracy of baseline model: 79.53%\n"
          ],
          "name": "stdout"
        }
      ]
    },
    {
      "cell_type": "code",
      "metadata": {
        "colab": {
          "base_uri": "https://localhost:8080/"
        },
        "id": "ydDvhmG6Vm4y",
        "outputId": "882cacf7-5f51-4ee5-e177-5e2181b1f961"
      },
      "source": [
        "reduced_results = test_model(reduced_model, epoch_stop)\r\n",
        "print('/n')\r\n",
        "print('Test accuracy of reduced model: {0:.2f}%'.format(reduced_results[1]*100))"
      ],
      "execution_count": 44,
      "outputs": [
        {
          "output_type": "stream",
          "text": [
            "172/172 [==============================] - 0s 1ms/step - loss: 0.5187 - accuracy: 0.8173\n",
            "/n\n",
            "Test accuracy of reduced model: 81.73%\n"
          ],
          "name": "stdout"
        }
      ]
    },
    {
      "cell_type": "code",
      "metadata": {
        "colab": {
          "base_uri": "https://localhost:8080/"
        },
        "id": "yLPeU6DxVrNp",
        "outputId": "184ef121-f91b-45fc-86e5-f76d79a7b255"
      },
      "source": [
        "reg_results = test_model(reg_model, epoch_stop)\r\n",
        "print('/n')\r\n",
        "print('Test accuracy of regularized model: {0:.2f}%'.format(reg_results[1]*100))"
      ],
      "execution_count": 45,
      "outputs": [
        {
          "output_type": "stream",
          "text": [
            "172/172 [==============================] - 0s 3ms/step - loss: 0.5744 - accuracy: 0.8242\n",
            "/n\n",
            "Test accuracy of regularized model: 82.42%\n"
          ],
          "name": "stdout"
        }
      ]
    },
    {
      "cell_type": "code",
      "metadata": {
        "colab": {
          "base_uri": "https://localhost:8080/"
        },
        "id": "EUa_e-wBVum1",
        "outputId": "ec8b71eb-3b72-4947-f0fb-9cb7a87326af"
      },
      "source": [
        "drop_results = test_model(drop_model, epoch_stop)\r\n",
        "print('/n')\r\n",
        "print('Test accuracy of dropout model: {0:.2f}%'.format(drop_results[1]*100))"
      ],
      "execution_count": 46,
      "outputs": [
        {
          "output_type": "stream",
          "text": [
            "172/172 [==============================] - 0s 2ms/step - loss: 0.5799 - accuracy: 0.8219\n",
            "/n\n",
            "Test accuracy of dropout model: 82.19%\n"
          ],
          "name": "stdout"
        }
      ]
    },
    {
      "cell_type": "markdown",
      "metadata": {
        "id": "wRD5a0ytYyr3"
      },
      "source": [
        "TESTING MODEL WITH 4 EPOCHS"
      ]
    },
    {
      "cell_type": "code",
      "metadata": {
        "id": "HfJ_uUPsZkJJ"
      },
      "source": [
        "epoch_stop = 4"
      ],
      "execution_count": 47,
      "outputs": []
    },
    {
      "cell_type": "code",
      "metadata": {
        "id": "qNZp4Jo9VzQ8",
        "colab": {
          "base_uri": "https://localhost:8080/"
        },
        "outputId": "9dbbb7bc-2794-41d6-87e0-a673dbe417d7"
      },
      "source": [
        "base_results = test_model(base_model, epoch_stop)\r\n",
        "print('/n')\r\n",
        "print('Test accuracy of baseline model: {0:.2f}%'.format(base_results[1]*100))\r\n",
        "reduced_results = test_model(reduced_model, epoch_stop)\r\n",
        "print('/n')\r\n",
        "print('Test accuracy of reduced model: {0:.2f}%'.format(reduced_results[1]*100))\r\n",
        "reg_results = test_model(reg_model, epoch_stop)\r\n",
        "print('/n')\r\n",
        "print('Test accuracy of regularized model: {0:.2f}%'.format(reg_results[1]*100))\r\n",
        "drop_results = test_model(drop_model, epoch_stop)\r\n",
        "print('/n')\r\n",
        "print('Test accuracy of dropout model: {0:.2f}%'.format(drop_results[1]*100))\r\n"
      ],
      "execution_count": 48,
      "outputs": [
        {
          "output_type": "stream",
          "text": [
            "172/172 [==============================] - 0s 2ms/step - loss: 1.0283 - accuracy: 0.7955\n",
            "/n\n",
            "Test accuracy of baseline model: 79.55%\n",
            "172/172 [==============================] - 0s 2ms/step - loss: 0.5396 - accuracy: 0.8162\n",
            "/n\n",
            "Test accuracy of reduced model: 81.62%\n",
            "172/172 [==============================] - 0s 3ms/step - loss: 0.5873 - accuracy: 0.8168\n",
            "/n\n",
            "Test accuracy of regularized model: 81.68%\n",
            "172/172 [==============================] - 0s 2ms/step - loss: 0.6242 - accuracy: 0.8204\n",
            "/n\n",
            "Test accuracy of dropout model: 82.04%\n"
          ],
          "name": "stdout"
        }
      ]
    },
    {
      "cell_type": "code",
      "metadata": {
        "id": "FhgcgitoZm7j"
      },
      "source": [
        "epoch_stop = 6"
      ],
      "execution_count": 49,
      "outputs": []
    },
    {
      "cell_type": "code",
      "metadata": {
        "colab": {
          "base_uri": "https://localhost:8080/"
        },
        "id": "FydWuqkxZruK",
        "outputId": "99aab05d-d9be-4777-fc86-556d0c8175d9"
      },
      "source": [
        "base_results = test_model(base_model, epoch_stop)\r\n",
        "print('/n')\r\n",
        "print('Test accuracy of baseline model: {0:.2f}%'.format(base_results[1]*100))\r\n",
        "reduced_results = test_model(reduced_model, epoch_stop)\r\n",
        "print('/n')\r\n",
        "print('Test accuracy of reduced model: {0:.2f}%'.format(reduced_results[1]*100))\r\n",
        "reg_results = test_model(reg_model, epoch_stop)\r\n",
        "print('/n')\r\n",
        "print('Test accuracy of regularized model: {0:.2f}%'.format(reg_results[1]*100))\r\n",
        "drop_results = test_model(drop_model, epoch_stop)\r\n",
        "print('/n')\r\n",
        "print('Test accuracy of dropout model: {0:.2f}%'.format(drop_results[1]*100))\r\n"
      ],
      "execution_count": 50,
      "outputs": [
        {
          "output_type": "stream",
          "text": [
            "172/172 [==============================] - 0s 2ms/step - loss: 1.2653 - accuracy: 0.7917\n",
            "/n\n",
            "Test accuracy of baseline model: 79.17%\n",
            "172/172 [==============================] - 0s 2ms/step - loss: 0.5848 - accuracy: 0.8144\n",
            "/n\n",
            "Test accuracy of reduced model: 81.44%\n",
            "172/172 [==============================] - 0s 3ms/step - loss: 0.5973 - accuracy: 0.8170\n",
            "/n\n",
            "Test accuracy of regularized model: 81.70%\n",
            "172/172 [==============================] - 0s 2ms/step - loss: 0.6970 - accuracy: 0.8208\n",
            "/n\n",
            "Test accuracy of dropout model: 82.08%\n"
          ],
          "name": "stdout"
        }
      ]
    },
    {
      "cell_type": "code",
      "metadata": {
        "id": "mHgenihSZwb3"
      },
      "source": [
        "epoch_stop = 8"
      ],
      "execution_count": null,
      "outputs": []
    },
    {
      "cell_type": "code",
      "metadata": {
        "id": "rs49K5U1Z0i0"
      },
      "source": [
        "base_results = test_model(base_model, epoch_stop)\r\n",
        "print('/n')\r\n",
        "print('Test accuracy of baseline model: {0:.2f}%'.format(base_results[1]*100))\r\n",
        "reduced_results = test_model(reduced_model, epoch_stop)\r\n",
        "print('/n')\r\n",
        "print('Test accuracy of reduced model: {0:.2f}%'.format(reduced_results[1]*100))\r\n",
        "reg_results = test_model(reg_model, epoch_stop)\r\n",
        "print('/n')\r\n",
        "print('Test accuracy of regularized model: {0:.2f}%'.format(reg_results[1]*100))\r\n",
        "drop_results = test_model(drop_model, epoch_stop)\r\n",
        "print('/n')\r\n",
        "print('Test accuracy of dropout model: {0:.2f}%'.format(drop_results[1]*100))"
      ],
      "execution_count": null,
      "outputs": []
    },
    {
      "cell_type": "code",
      "metadata": {
        "id": "tNEL9F4laSk1"
      },
      "source": [
        "epoch_stop = 10"
      ],
      "execution_count": 51,
      "outputs": []
    },
    {
      "cell_type": "code",
      "metadata": {
        "colab": {
          "base_uri": "https://localhost:8080/"
        },
        "id": "XzR-n_gtabMm",
        "outputId": "dca60d55-1247-4105-fd25-b80e5be66565"
      },
      "source": [
        "base_results = test_model(base_model, epoch_stop)\r\n",
        "print('/n')\r\n",
        "print('Test accuracy of baseline model: {0:.2f}%'.format(base_results[1]*100))\r\n",
        "reduced_results = test_model(reduced_model, epoch_stop)\r\n",
        "print('/n')\r\n",
        "print('Test accuracy of reduced model: {0:.2f}%'.format(reduced_results[1]*100))\r\n",
        "reg_results = test_model(reg_model, epoch_stop)\r\n",
        "print('/n')\r\n",
        "print('Test accuracy of regularized model: {0:.2f}%'.format(reg_results[1]*100))\r\n",
        "drop_results = test_model(drop_model, epoch_stop)\r\n",
        "print('/n')\r\n",
        "print('Test accuracy of dropout model: {0:.2f}%'.format(drop_results[1]*100))"
      ],
      "execution_count": 52,
      "outputs": [
        {
          "output_type": "stream",
          "text": [
            "172/172 [==============================] - 0s 2ms/step - loss: 1.6257 - accuracy: 0.7884\n",
            "/n\n",
            "Test accuracy of baseline model: 78.84%\n",
            "172/172 [==============================] - 0s 2ms/step - loss: 0.6733 - accuracy: 0.8049\n",
            "/n\n",
            "Test accuracy of reduced model: 80.49%\n",
            "172/172 [==============================] - 1s 3ms/step - loss: 0.6150 - accuracy: 0.8151\n",
            "/n\n",
            "Test accuracy of regularized model: 81.51%\n",
            "172/172 [==============================] - 0s 2ms/step - loss: 0.8103 - accuracy: 0.8191\n",
            "/n\n",
            "Test accuracy of dropout model: 81.91%\n"
          ],
          "name": "stdout"
        }
      ]
    },
    {
      "cell_type": "code",
      "metadata": {
        "id": "UfK5nP5HaXL0"
      },
      "source": [
        "epoch_stop = 15"
      ],
      "execution_count": 53,
      "outputs": []
    },
    {
      "cell_type": "code",
      "metadata": {
        "colab": {
          "base_uri": "https://localhost:8080/"
        },
        "id": "rFuBpeALaca7",
        "outputId": "e1c8d235-630a-485b-8920-2861b5c183e7"
      },
      "source": [
        "base_results = test_model(base_model, epoch_stop)\r\n",
        "print('/n')\r\n",
        "print('Test accuracy of baseline model: {0:.2f}%'.format(base_results[1]*100))\r\n",
        "reduced_results = test_model(reduced_model, epoch_stop)\r\n",
        "print('/n')\r\n",
        "print('Test accuracy of reduced model: {0:.2f}%'.format(reduced_results[1]*100))\r\n",
        "reg_results = test_model(reg_model, epoch_stop)\r\n",
        "print('/n')\r\n",
        "print('Test accuracy of regularized model: {0:.2f}%'.format(reg_results[1]*100))\r\n",
        "drop_results = test_model(drop_model, epoch_stop)\r\n",
        "print('/n')\r\n",
        "print('Test accuracy of dropout model: {0:.2f}%'.format(drop_results[1]*100))"
      ],
      "execution_count": 54,
      "outputs": [
        {
          "output_type": "stream",
          "text": [
            "172/172 [==============================] - 0s 2ms/step - loss: 1.9231 - accuracy: 0.7929\n",
            "/n\n",
            "Test accuracy of baseline model: 79.29%\n",
            "172/172 [==============================] - 0s 2ms/step - loss: 0.8148 - accuracy: 0.7989\n",
            "/n\n",
            "Test accuracy of reduced model: 79.89%\n",
            "172/172 [==============================] - 0s 3ms/step - loss: 0.6313 - accuracy: 0.8111\n",
            "/n\n",
            "Test accuracy of regularized model: 81.11%\n",
            "172/172 [==============================] - 0s 2ms/step - loss: 1.0068 - accuracy: 0.8150\n",
            "/n\n",
            "Test accuracy of dropout model: 81.50%\n"
          ],
          "name": "stdout"
        }
      ]
    },
    {
      "cell_type": "code",
      "metadata": {
        "id": "5HWV8ZnEaWvt"
      },
      "source": [
        "epoch_stop = 20"
      ],
      "execution_count": 55,
      "outputs": []
    },
    {
      "cell_type": "code",
      "metadata": {
        "colab": {
          "base_uri": "https://localhost:8080/"
        },
        "id": "5vQQilVWadkC",
        "outputId": "d2ecb053-d3b5-4f87-faa7-8ebd1297d139"
      },
      "source": [
        "base_results = test_model(base_model, epoch_stop)\r\n",
        "print('/n')\r\n",
        "print('Test accuracy of baseline model: {0:.2f}%'.format(base_results[1]*100))\r\n",
        "reduced_results = test_model(reduced_model, epoch_stop)\r\n",
        "print('/n')\r\n",
        "print('Test accuracy of reduced model: {0:.2f}%'.format(reduced_results[1]*100))\r\n",
        "reg_results = test_model(reg_model, epoch_stop)\r\n",
        "print('/n')\r\n",
        "print('Test accuracy of regularized model: {0:.2f}%'.format(reg_results[1]*100))\r\n",
        "drop_results = test_model(drop_model, epoch_stop)\r\n",
        "print('/n')\r\n",
        "print('Test accuracy of dropout model: {0:.2f}%'.format(drop_results[1]*100))"
      ],
      "execution_count": 56,
      "outputs": [
        {
          "output_type": "stream",
          "text": [
            "172/172 [==============================] - 0s 2ms/step - loss: 2.1387 - accuracy: 0.7908\n",
            "/n\n",
            "Test accuracy of baseline model: 79.08%\n",
            "172/172 [==============================] - 0s 2ms/step - loss: 0.9942 - accuracy: 0.7929\n",
            "/n\n",
            "Test accuracy of reduced model: 79.29%\n",
            "172/172 [==============================] - 0s 3ms/step - loss: 0.6558 - accuracy: 0.8190\n",
            "/n\n",
            "Test accuracy of regularized model: 81.90%\n",
            "172/172 [==============================] - 0s 2ms/step - loss: 1.2666 - accuracy: 0.8171\n",
            "/n\n",
            "Test accuracy of dropout model: 81.71%\n"
          ],
          "name": "stdout"
        }
      ]
    },
    {
      "cell_type": "code",
      "metadata": {
        "id": "dOSeGWUQafzh"
      },
      "source": [
        ""
      ],
      "execution_count": null,
      "outputs": []
    }
  ]
}